{
 "cells": [
  {
   "cell_type": "code",
   "execution_count": 1,
   "metadata": {},
   "outputs": [
    {
     "name": "stderr",
     "output_type": "stream",
     "text": [
      "/usr/local/lib/python3.10/dist-packages/tqdm/auto.py:21: TqdmWarning: IProgress not found. Please update jupyter and ipywidgets. See https://ipywidgets.readthedocs.io/en/stable/user_install.html\n",
      "  from .autonotebook import tqdm as notebook_tqdm\n"
     ]
    }
   ],
   "source": [
    "import torch\n",
    "from bitnetb158.models import bit_deit_tiny_patch16_224\n",
    "from bitnetb158 import convert_weights_to_packed\n",
    "from bitnetb158.nn import BitLinearb158\n",
    "\n",
    "model = bit_deit_tiny_patch16_224(num_classes=1000)\n",
    "torch.save(model.state_dict(), \"weights.pth\")\n",
    "convert_weights_to_packed(model, BitLinearb158)\n",
    "torch.save(model.state_dict(), \"packed_weights.pth\")"
   ]
  },
  {
   "cell_type": "code",
   "execution_count": 2,
   "metadata": {},
   "outputs": [
    {
     "name": "stdout",
     "output_type": "stream",
     "text": [
      "Original memory usage (MB): 21.810211181640625\n",
      "Packed memory usage (MB): 2.1393775939941406\n",
      "Memory usage reduction (MB): 19.670833587646484\n"
     ]
    }
   ],
   "source": [
    "import torch\n",
    "\n",
    "# 重みをロード\n",
    "weights = torch.load(\"weights.pth\")\n",
    "\n",
    "# 重みの要素数を計算\n",
    "original_memory_usage = sum(p.numel() * p.element_size() for p in weights.values())\n",
    "\n",
    "# パックされた重みをロード\n",
    "packed_weights = torch.load(\"packed_weights.pth\")\n",
    "\n",
    "# パックされた重みの要素数を計算\n",
    "packed_memory_usage = sum(p.numel() * p.element_size() for p in packed_weights.values())\n",
    "\n",
    "# パラメータの削減量を計算\n",
    "reduction = original_memory_usage - packed_memory_usage\n",
    "\n",
    "print(\"Original memory usage (MB):\", original_memory_usage / (1024 * 1024))\n",
    "print(\"Packed memory usage (MB):\", packed_memory_usage / (1024 * 1024))\n",
    "print(\"Memory usage reduction (MB):\", reduction / (1024 * 1024))"
   ]
  },
  {
   "cell_type": "code",
   "execution_count": null,
   "metadata": {},
   "outputs": [],
   "source": []
  }
 ],
 "metadata": {
  "kernelspec": {
   "display_name": "Python 3",
   "language": "python",
   "name": "python3"
  },
  "language_info": {
   "codemirror_mode": {
    "name": "ipython",
    "version": 3
   },
   "file_extension": ".py",
   "mimetype": "text/x-python",
   "name": "python",
   "nbconvert_exporter": "python",
   "pygments_lexer": "ipython3",
   "version": "3.10.12"
  }
 },
 "nbformat": 4,
 "nbformat_minor": 2
}
