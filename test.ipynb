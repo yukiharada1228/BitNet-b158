{
 "cells": [
  {
   "cell_type": "code",
   "execution_count": 1,
   "metadata": {},
   "outputs": [],
   "source": [
    "import torch\n",
    "from bitnetb158.nn import BitLinearb158\n",
    "\n",
    "input_data = torch.randn(5, 4)\n",
    "model = BitLinearb158(4, 4)"
   ]
  },
  {
   "cell_type": "code",
   "execution_count": 2,
   "metadata": {},
   "outputs": [
    {
     "data": {
      "text/plain": [
       "Parameter containing:\n",
       "tensor([[ 0.0362, -0.3931, -0.4709,  0.4073],\n",
       "        [ 0.1506, -0.3157, -0.2222,  0.0243],\n",
       "        [-0.1678, -0.2416, -0.4693,  0.0646],\n",
       "        [-0.0044, -0.2474, -0.3790, -0.0697]], requires_grad=True)"
      ]
     },
     "execution_count": 2,
     "metadata": {},
     "output_type": "execute_result"
    }
   ],
   "source": [
    "model.weight"
   ]
  },
  {
   "cell_type": "code",
   "execution_count": 3,
   "metadata": {},
   "outputs": [
    {
     "data": {
      "text/plain": [
       "tensor([[-0.6686, -0.6319, -0.2369, -0.4351],\n",
       "        [ 0.4450, -0.1270,  0.3352,  0.1034],\n",
       "        [-0.0506,  0.2493, -0.1207,  0.0636],\n",
       "        [ 0.7204,  0.3227,  0.3689,  0.3451],\n",
       "        [ 0.4206,  0.4910,  0.1149,  0.3023]], grad_fn=<MulBackward0>)"
      ]
     },
     "execution_count": 3,
     "metadata": {},
     "output_type": "execute_result"
    }
   ],
   "source": [
    "original_output = model(input_data)\n",
    "original_output"
   ]
  },
  {
   "cell_type": "code",
   "execution_count": 4,
   "metadata": {},
   "outputs": [
    {
     "data": {
      "text/plain": [
       "tensor([[104],\n",
       "        [ 41],\n",
       "        [ 42],\n",
       "        [ 40]], dtype=torch.int8)"
      ]
     },
     "execution_count": 4,
     "metadata": {},
     "output_type": "execute_result"
    }
   ],
   "source": [
    "model.convert_weights_to_packed()\n",
    "model.weight"
   ]
  },
  {
   "cell_type": "code",
   "execution_count": 5,
   "metadata": {},
   "outputs": [
    {
     "data": {
      "text/plain": [
       "tensor([[ 0, -1, -1,  1],\n",
       "        [ 1, -1, -1,  0],\n",
       "        [-1, -1, -1,  0],\n",
       "        [ 0, -1, -1,  0]])"
      ]
     },
     "execution_count": 5,
     "metadata": {},
     "output_type": "execute_result"
    }
   ],
   "source": [
    "model.unpack_ternary(model.weight)"
   ]
  },
  {
   "cell_type": "code",
   "execution_count": 6,
   "metadata": {},
   "outputs": [
    {
     "data": {
      "text/plain": [
       "tensor([[-0.6686, -0.6319, -0.2369, -0.4351],\n",
       "        [ 0.4450, -0.1270,  0.3352,  0.1034],\n",
       "        [-0.0506,  0.2493, -0.1207,  0.0636],\n",
       "        [ 0.7204,  0.3227,  0.3689,  0.3451],\n",
       "        [ 0.4206,  0.4910,  0.1149,  0.3023]], grad_fn=<MulBackward0>)"
      ]
     },
     "metadata": {},
     "output_type": "display_data"
    },
    {
     "data": {
      "text/plain": [
       "tensor([[-0.6686, -0.6319, -0.2369, -0.4351],\n",
       "        [ 0.4450, -0.1270,  0.3352,  0.1034],\n",
       "        [-0.0506,  0.2493, -0.1207,  0.0636],\n",
       "        [ 0.7204,  0.3227,  0.3689,  0.3451],\n",
       "        [ 0.4206,  0.4910,  0.1149,  0.3023]], grad_fn=<MulBackward0>)"
      ]
     },
     "metadata": {},
     "output_type": "display_data"
    }
   ],
   "source": [
    "display(original_output)\n",
    "display(model.forward_after_packed(input_data))"
   ]
  },
  {
   "cell_type": "code",
   "execution_count": 7,
   "metadata": {},
   "outputs": [
    {
     "name": "stdout",
     "output_type": "stream",
     "text": [
      "Parameter containing:\n",
      "tensor([ 0.4629,  0.4755, -0.4406, -0.2057], requires_grad=True)\n",
      "Parameter containing:\n",
      "tensor(0.2290, requires_grad=True)\n"
     ]
    }
   ],
   "source": [
    "for param in model.parameters():\n",
    "    print(param)"
   ]
  },
  {
   "cell_type": "code",
   "execution_count": null,
   "metadata": {},
   "outputs": [],
   "source": []
  }
 ],
 "metadata": {
  "kernelspec": {
   "display_name": "Python 3",
   "language": "python",
   "name": "python3"
  },
  "language_info": {
   "codemirror_mode": {
    "name": "ipython",
    "version": 3
   },
   "file_extension": ".py",
   "mimetype": "text/x-python",
   "name": "python",
   "nbconvert_exporter": "python",
   "pygments_lexer": "ipython3",
   "version": "3.10.12"
  }
 },
 "nbformat": 4,
 "nbformat_minor": 2
}
